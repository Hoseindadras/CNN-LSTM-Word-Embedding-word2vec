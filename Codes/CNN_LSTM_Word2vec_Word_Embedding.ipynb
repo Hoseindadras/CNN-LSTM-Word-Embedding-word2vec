{
  "nbformat": 4,
  "nbformat_minor": 0,
  "metadata": {
    "colab": {
      "provenance": [],
      "gpuType": "T4"
    },
    "kernelspec": {
      "name": "python3",
      "display_name": "Python 3"
    },
    "language_info": {
      "name": "python"
    },
    "accelerator": "GPU"
  },
  "cells": [
    {
      "cell_type": "code",
      "source": [
        "!git clone https://github.com/laxmimerit/twitter-suicidal-intention-dataset.git -q\n",
        "!pip install neattext -q"
      ],
      "metadata": {
        "colab": {
          "base_uri": "https://localhost:8080/"
        },
        "id": "9cteAibD1XtV",
        "outputId": "227ae8bb-3680-448d-e4f1-0d4f6ccd64ed"
      },
      "execution_count": 2,
      "outputs": [
        {
          "output_type": "stream",
          "name": "stdout",
          "text": [
            "\u001b[?25l     \u001b[90m━━━━━━━━━━━━━━━━━━━━━━━━━━━━━━━━━━━━━━━━\u001b[0m \u001b[32m0.0/114.7 kB\u001b[0m \u001b[31m?\u001b[0m eta \u001b[36m-:--:--\u001b[0m\r\u001b[2K     \u001b[91m━━━━━━━━━━━━━━\u001b[0m\u001b[90m╺\u001b[0m\u001b[90m━━━━━━━━━━━━━━━━━━━━━━━━━\u001b[0m \u001b[32m41.0/114.7 kB\u001b[0m \u001b[31m1.2 MB/s\u001b[0m eta \u001b[36m0:00:01\u001b[0m\r\u001b[2K     \u001b[90m━━━━━━━━━━━━━━━━━━━━━━━━━━━━━━━━━━━━━━━━\u001b[0m \u001b[32m114.7/114.7 kB\u001b[0m \u001b[31m2.1 MB/s\u001b[0m eta \u001b[36m0:00:00\u001b[0m\n",
            "\u001b[?25h"
          ]
        }
      ]
    },
    {
      "cell_type": "markdown",
      "source": [
        "### Load Dataset and Preprocess"
      ],
      "metadata": {
        "id": "ryS5N7Uo2h3J"
      }
    },
    {
      "cell_type": "code",
      "source": [
        "from keras.preprocessing.text import Tokenizer\n",
        "from keras.preprocessing.sequence import pad_sequences\n"
      ],
      "metadata": {
        "id": "Aeqj8zZQpMzp"
      },
      "execution_count": 3,
      "outputs": []
    },
    {
      "cell_type": "code",
      "source": [
        "import pandas as pd\n",
        "import nltk\n",
        "from nltk.corpus import stopwords\n",
        "from nltk.tokenize import word_tokenize\n",
        "from nltk.stem import WordNetLemmatizer\n",
        "from sklearn.model_selection import train_test_split\n",
        "from torch.utils.data import Dataset, DataLoader\n",
        "from neattext.pipeline import TextPipeline\n",
        "import neattext.functions as nfx\n",
        "import torch\n",
        "from torch.utils.data import DataLoader, Dataset, TensorDataset\n",
        "\n",
        "device = torch.device(\"cuda\" if torch.cuda.is_available() else \"cpu\")\n",
        "\n",
        "\n",
        "df = pd.read_csv(\"/content/twitter-suicidal-intention-dataset/twitter-suicidal_data.csv\")\n",
        "\n",
        "\n",
        "def clean_the_text(text):\n",
        "    p = TextPipeline(steps=[nfx.remove_special_characters, nfx.remove_punctuations,\n",
        "                                nfx.remove_puncts, nfx.remove_stopwords, nfx.fix_contractions])\n",
        "    return p.fit(text)\n",
        "\n",
        "\n",
        "df['processed_text'] = df['tweet'].apply(clean_the_text)\n",
        "\n",
        "\n",
        "\n",
        "train_df, test_df = train_test_split(df, test_size=0.2, random_state=42)\n",
        "\n",
        "\n",
        "tokenizer=Tokenizer()\n",
        "tokenizer.fit_on_texts(df.processed_text)\n",
        "\n",
        "train_text_seq=tokenizer.texts_to_sequences(train_df.processed_text)\n",
        "train_text_pad=pad_sequences(train_text_seq,maxlen=50)\n",
        "\n",
        "\n",
        "test_text_seq=tokenizer.texts_to_sequences(test_df.processed_text)\n",
        "test_text_pad=pad_sequences(test_text_seq,maxlen=50)\n",
        "\n",
        "\n",
        "X_train_tensor = torch.tensor(train_text_pad, dtype=torch.long)\n",
        "X_test_tensor = torch.tensor(test_text_pad, dtype=torch.long)\n",
        "y_train_tensor = torch.tensor(train_df.intention.values, dtype=torch.long)\n",
        "y_test_tensor = torch.tensor(test_df.intention.values, dtype=torch.long)\n",
        "\n",
        "train_dataset = TensorDataset(X_train_tensor, y_train_tensor)\n",
        "train_dataloader = DataLoader(train_dataset, batch_size=64, shuffle=True)\n",
        "\n",
        "\n"
      ],
      "metadata": {
        "id": "7MypXwzd7P8t"
      },
      "execution_count": 4,
      "outputs": []
    },
    {
      "cell_type": "markdown",
      "source": [
        "# Word embedding using word2vec"
      ],
      "metadata": {
        "id": "Gpu_lGg41GYL"
      }
    },
    {
      "cell_type": "code",
      "source": [
        "import gensim.downloader as api\n",
        "import torch\n",
        "import torch.nn as nn\n",
        "\n",
        "word2vec_model = api.load(\"word2vec-google-news-300\")"
      ],
      "metadata": {
        "id": "kJz8UPzZ3uGR",
        "colab": {
          "base_uri": "https://localhost:8080/"
        },
        "outputId": "fe553135-3aad-4202-cd26-e5011b45a927"
      },
      "execution_count": 5,
      "outputs": [
        {
          "output_type": "stream",
          "name": "stdout",
          "text": [
            "[==================================================] 100.0% 1662.8/1662.8MB downloaded\n"
          ]
        }
      ]
    },
    {
      "cell_type": "code",
      "source": [
        "embedding_dimension = 300\n",
        "\n",
        "embedding_matrix = torch.zeros(len(tokenizer.word_index) + 1, embedding_dimension)\n",
        "for word, index in tokenizer.word_index.items():\n",
        "    if word in word2vec_model:\n",
        "        embedding_matrix[index] = torch.tensor(word2vec_model[word], dtype=torch.float32)\n",
        "\n",
        "embedding_layer = nn.Embedding.from_pretrained(embedding_matrix)\n"
      ],
      "metadata": {
        "id": "29-BSEEsIUHM"
      },
      "execution_count": 6,
      "outputs": []
    },
    {
      "cell_type": "code",
      "source": [
        "del word2vec_model"
      ],
      "metadata": {
        "id": "TyfydaY7ADw5"
      },
      "execution_count": 7,
      "outputs": []
    },
    {
      "cell_type": "code",
      "source": [
        "num_classes = 2"
      ],
      "metadata": {
        "id": "5r_cBTJSyg8w"
      },
      "execution_count": 8,
      "outputs": []
    },
    {
      "cell_type": "markdown",
      "source": [
        "# CNN + 2LSTM"
      ],
      "metadata": {
        "id": "RDEPm5D01Oet"
      }
    },
    {
      "cell_type": "code",
      "source": [
        "import torch\n",
        "import torch.nn as nn\n",
        "import torch.optim as optim\n",
        "\n",
        "class CNN_LSTM(nn.Module):\n",
        "    def __init__(self, embedding_matrix, num_classes, lstm_hidden_size=128):\n",
        "        super(CNN_LSTM, self).__init__()\n",
        "\n",
        "        self.embedding_layer = nn.Embedding.from_pretrained(embedding_matrix, freeze=True)\n",
        "        self.conv1d_layer = nn.Conv1d(in_channels=embedding_matrix.size(1), out_channels=64, kernel_size=3)\n",
        "        self.relu_layer = nn.ReLU()\n",
        "        self.maxpool_layer = nn.MaxPool1d(kernel_size=2)\n",
        "        self.dropout_layer = nn.Dropout(p=0.5)\n",
        "        self.lstm_layer1 = nn.LSTM(64, lstm_hidden_size, bidirectional=True, batch_first=True)\n",
        "        self.lstm_layer2 = nn.LSTM(lstm_hidden_size * 2, lstm_hidden_size, bidirectional=True, batch_first=True)\n",
        "        self.fc_layer = nn.Linear(lstm_hidden_size * 2 * 2, num_classes)\n",
        "\n",
        "    def forward(self, input_sequence):\n",
        "        embedded = self.embedding_layer(input_sequence)\n",
        "        embedded = embedded.permute(0, 2, 1)\n",
        "        conv_output = self.conv1d_layer(embedded)\n",
        "        relu_output = self.relu_layer(conv_output)\n",
        "        pooled_output = self.maxpool_layer(relu_output)\n",
        "        dropped_output = self.dropout_layer(pooled_output)\n",
        "        lstm_output1, _ = self.lstm_layer1(dropped_output)\n",
        "        lstm_output2, _ = self.lstm_layer2(lstm_output1)\n",
        "        lstm_output = torch.cat((lstm_output1[:, -1, :], lstm_output2[:, -1, :]), dim=1)\n",
        "        output = self.fc_layer(lstm_output)\n",
        "\n",
        "        return output\n"
      ],
      "metadata": {
        "id": "kvMP3eGT6vdy"
      },
      "execution_count": 9,
      "outputs": []
    },
    {
      "cell_type": "code",
      "source": [
        "import torch\n",
        "import torch.nn as nn\n",
        "import torch.optim as optim\n",
        "\n",
        "class TwoLayerLSTM(nn.Module):\n",
        "    def __init__(self, embedding_matrix, num_classes, lstm_hidden_size=128):\n",
        "        super(TwoLayerLSTM, self).__init__()\n",
        "\n",
        "        self.embedding_layer = nn.Embedding.from_pretrained(embedding_matrix, freeze=True)\n",
        "        self.lstm_layer1 = nn.LSTM(embedding_matrix.size(1), lstm_hidden_size, bidirectional=True, batch_first=True)\n",
        "        self.lstm_layer2 = nn.LSTM(lstm_hidden_size * 2, lstm_hidden_size, bidirectional=True, batch_first=True)\n",
        "        self.fc_layer = nn.Linear(lstm_hidden_size * 2 * 2, num_classes)\n",
        "\n",
        "    def forward(self, input_sequence):\n",
        "        embedded = self.embedding_layer(input_sequence)\n",
        "        lstm_output1, _ = self.lstm_layer1(embedded)\n",
        "        lstm_output2, _ = self.lstm_layer2(lstm_output1)\n",
        "        lstm_output = torch.cat((lstm_output1[:, -1, :], lstm_output2[:, -1, :]), dim=1)\n",
        "        output = self.fc_layer(lstm_output)\n",
        "\n",
        "        return output\n"
      ],
      "metadata": {
        "id": "dd6Jc1jTmyA4"
      },
      "execution_count": 10,
      "outputs": []
    },
    {
      "cell_type": "code",
      "source": [
        "import torch.nn as nn\n",
        "\n",
        "class OneLayerLSTM(nn.Module):\n",
        "    def __init__(self, embedding_matrix, num_classes, lstm_hidden_size=128):\n",
        "        super(OneLayerLSTM, self).__init__()\n",
        "\n",
        "        self.embedding_layer = nn.Embedding.from_pretrained(embedding_matrix, freeze=True)\n",
        "        self.lstm_layer = nn.LSTM(embedding_matrix.size(1), lstm_hidden_size, bidirectional=True, batch_first=True)\n",
        "        self.fc_layer = nn.Linear(lstm_hidden_size * 2, num_classes)\n",
        "\n",
        "    def forward(self, input_sequence):\n",
        "        embedded = self.embedding_layer(input_sequence)\n",
        "\n",
        "        # LSTM layer\n",
        "        lstm_output, _ = self.lstm_layer(embedded)\n",
        "\n",
        "        # Concatenate the outputs of the LSTM layer\n",
        "        lstm_output = torch.cat((lstm_output[:, -1, :lstm_output.size(2)//2], lstm_output[:, 0, lstm_output.size(2)//2:]), dim=1)\n",
        "\n",
        "        # Fully Connected Layer (Output Layer)\n",
        "        output = self.fc_layer(lstm_output)\n",
        "\n",
        "        return output"
      ],
      "metadata": {
        "id": "QaTSDtnpy-y9"
      },
      "execution_count": 11,
      "outputs": []
    },
    {
      "cell_type": "code",
      "source": [
        "from tqdm import tqdm\n",
        "from sklearn.metrics import f1_score, recall_score, precision_score\n",
        "import matplotlib.pyplot as plt\n",
        "\n",
        "num_classes = 2\n",
        "cnn_lstm_classifier = CNN_LSTM(embedding_matrix, num_classes=num_classes)\n",
        "\n",
        "criterion = nn.CrossEntropyLoss()\n",
        "optimizer = optim.Adam(cnn_lstm_classifier.parameters(), lr=0.001)\n",
        "\n",
        "num_epochs = 20\n",
        "\n",
        "f1_scores = []\n",
        "recall_scores = []\n",
        "precision_scores = []\n",
        "all_losses = []\n",
        "\n",
        "\n",
        "for epoch in range(num_epochs):\n",
        "    total_loss = 0\n",
        "    for batch_X, batch_y in tqdm(train_dataloader):\n",
        "\n",
        "        outputs = cnn_lstm_classifier(batch_X)\n",
        "        loss = criterion(outputs, batch_y)\n",
        "\n",
        "        optimizer.zero_grad()\n",
        "        loss.backward()\n",
        "        optimizer.step()\n",
        "\n",
        "        total_loss += loss.item()\n",
        "\n",
        "    with torch.no_grad():\n",
        "        test_outputs = cnn_lstm_classifier(X_test_tensor)\n",
        "        test_loss = criterion(test_outputs, y_test_tensor)\n",
        "        predicted_labels = torch.argmax(test_outputs, dim=1)\n",
        "\n",
        "        f1 = f1_score(y_test_tensor.cpu(), predicted_labels.cpu())\n",
        "        recall = recall_score(y_test_tensor.cpu(), predicted_labels.cpu())\n",
        "        precision = precision_score(y_test_tensor.cpu(), predicted_labels.cpu())\n",
        "\n",
        "        f1_scores.append(f1)\n",
        "        recall_scores.append(recall)\n",
        "        precision_scores.append(precision)\n",
        "        all_losses.append(total_loss / len(train_dataloader))\n",
        "\n",
        "    print(f'Epoch {epoch + 1}/{num_epochs}, Average Loss: {total_loss / len(train_dataloader)}')\n",
        "    print(f'F1 Score: {f1:.4f}, Recall: {recall:.4f}, Precision: {precision:.4f}')\n",
        "\n",
        "plt.plot(all_losses)\n",
        "plt.xlabel('Epochs')\n",
        "plt.ylabel('Loss')\n",
        "plt.title('Training Loss Curve')\n",
        "plt.show()\n"
      ],
      "metadata": {
        "colab": {
          "base_uri": "https://localhost:8080/",
          "height": 1000
        },
        "id": "_l8Dbn1-1PV0",
        "outputId": "5ac444aa-ea72-402d-896b-45457b40bec4"
      },
      "execution_count": 12,
      "outputs": [
        {
          "output_type": "stream",
          "name": "stderr",
          "text": [
            "100%|██████████| 114/114 [00:58<00:00,  1.96it/s]\n"
          ]
        },
        {
          "output_type": "stream",
          "name": "stdout",
          "text": [
            "Epoch 1/20, Average Loss: 0.3822645509713574\n",
            "F1 Score: 0.8586, Recall: 0.8186, Precision: 0.9027\n"
          ]
        },
        {
          "output_type": "stream",
          "name": "stderr",
          "text": [
            "100%|██████████| 114/114 [00:54<00:00,  2.08it/s]\n"
          ]
        },
        {
          "output_type": "stream",
          "name": "stdout",
          "text": [
            "Epoch 2/20, Average Loss: 0.29207255580184754\n",
            "F1 Score: 0.8682, Recall: 0.8472, Precision: 0.8903\n"
          ]
        },
        {
          "output_type": "stream",
          "name": "stderr",
          "text": [
            "100%|██████████| 114/114 [00:54<00:00,  2.08it/s]\n"
          ]
        },
        {
          "output_type": "stream",
          "name": "stdout",
          "text": [
            "Epoch 3/20, Average Loss: 0.25267513298936056\n",
            "F1 Score: 0.8797, Recall: 0.8447, Precision: 0.9177\n"
          ]
        },
        {
          "output_type": "stream",
          "name": "stderr",
          "text": [
            "100%|██████████| 114/114 [00:44<00:00,  2.59it/s]\n"
          ]
        },
        {
          "output_type": "stream",
          "name": "stdout",
          "text": [
            "Epoch 4/20, Average Loss: 0.23821822599622242\n",
            "F1 Score: 0.8769, Recall: 0.8360, Precision: 0.9219\n"
          ]
        },
        {
          "output_type": "stream",
          "name": "stderr",
          "text": [
            "100%|██████████| 114/114 [00:36<00:00,  3.14it/s]\n"
          ]
        },
        {
          "output_type": "stream",
          "name": "stdout",
          "text": [
            "Epoch 5/20, Average Loss: 0.21759840336285138\n",
            "F1 Score: 0.8847, Recall: 0.8435, Precision: 0.9301\n"
          ]
        },
        {
          "output_type": "stream",
          "name": "stderr",
          "text": [
            "100%|██████████| 114/114 [00:39<00:00,  2.92it/s]\n"
          ]
        },
        {
          "output_type": "stream",
          "name": "stdout",
          "text": [
            "Epoch 6/20, Average Loss: 0.20642698288225292\n",
            "F1 Score: 0.8931, Recall: 0.8720, Precision: 0.9153\n"
          ]
        },
        {
          "output_type": "stream",
          "name": "stderr",
          "text": [
            "100%|██████████| 114/114 [00:37<00:00,  3.08it/s]\n"
          ]
        },
        {
          "output_type": "stream",
          "name": "stdout",
          "text": [
            "Epoch 7/20, Average Loss: 0.18576363768232496\n",
            "F1 Score: 0.8855, Recall: 0.9031, Precision: 0.8686\n"
          ]
        },
        {
          "output_type": "stream",
          "name": "stderr",
          "text": [
            "100%|██████████| 114/114 [00:37<00:00,  3.05it/s]\n"
          ]
        },
        {
          "output_type": "stream",
          "name": "stdout",
          "text": [
            "Epoch 8/20, Average Loss: 0.17471777762106636\n",
            "F1 Score: 0.8973, Recall: 0.8795, Precision: 0.9159\n"
          ]
        },
        {
          "output_type": "stream",
          "name": "stderr",
          "text": [
            "100%|██████████| 114/114 [00:37<00:00,  3.03it/s]\n"
          ]
        },
        {
          "output_type": "stream",
          "name": "stdout",
          "text": [
            "Epoch 9/20, Average Loss: 0.1696196340285895\n",
            "F1 Score: 0.8879, Recall: 0.8907, Precision: 0.8852\n"
          ]
        },
        {
          "output_type": "stream",
          "name": "stderr",
          "text": [
            "100%|██████████| 114/114 [00:36<00:00,  3.12it/s]\n"
          ]
        },
        {
          "output_type": "stream",
          "name": "stdout",
          "text": [
            "Epoch 10/20, Average Loss: 0.1587072301394584\n",
            "F1 Score: 0.8956, Recall: 0.8845, Precision: 0.9070\n"
          ]
        },
        {
          "output_type": "stream",
          "name": "stderr",
          "text": [
            "100%|██████████| 114/114 [00:36<00:00,  3.11it/s]\n"
          ]
        },
        {
          "output_type": "stream",
          "name": "stdout",
          "text": [
            "Epoch 11/20, Average Loss: 0.14559051400998183\n",
            "F1 Score: 0.8868, Recall: 0.8807, Precision: 0.8929\n"
          ]
        },
        {
          "output_type": "stream",
          "name": "stderr",
          "text": [
            "100%|██████████| 114/114 [00:36<00:00,  3.11it/s]\n"
          ]
        },
        {
          "output_type": "stream",
          "name": "stdout",
          "text": [
            "Epoch 12/20, Average Loss: 0.1358417460466163\n",
            "F1 Score: 0.8938, Recall: 0.8882, Precision: 0.8994\n"
          ]
        },
        {
          "output_type": "stream",
          "name": "stderr",
          "text": [
            "100%|██████████| 114/114 [00:36<00:00,  3.12it/s]\n"
          ]
        },
        {
          "output_type": "stream",
          "name": "stdout",
          "text": [
            "Epoch 13/20, Average Loss: 0.139505077807004\n",
            "F1 Score: 0.8806, Recall: 0.8522, Precision: 0.9110\n"
          ]
        },
        {
          "output_type": "stream",
          "name": "stderr",
          "text": [
            "100%|██████████| 114/114 [00:38<00:00,  2.98it/s]\n"
          ]
        },
        {
          "output_type": "stream",
          "name": "stdout",
          "text": [
            "Epoch 14/20, Average Loss: 0.13253888268873357\n",
            "F1 Score: 0.8857, Recall: 0.8907, Precision: 0.8808\n"
          ]
        },
        {
          "output_type": "stream",
          "name": "stderr",
          "text": [
            "100%|██████████| 114/114 [00:36<00:00,  3.16it/s]\n"
          ]
        },
        {
          "output_type": "stream",
          "name": "stdout",
          "text": [
            "Epoch 15/20, Average Loss: 0.13538932924469313\n",
            "F1 Score: 0.8973, Recall: 0.8733, Precision: 0.9226\n"
          ]
        },
        {
          "output_type": "stream",
          "name": "stderr",
          "text": [
            "100%|██████████| 114/114 [00:36<00:00,  3.10it/s]\n"
          ]
        },
        {
          "output_type": "stream",
          "name": "stdout",
          "text": [
            "Epoch 16/20, Average Loss: 0.11315123215644506\n",
            "F1 Score: 0.8900, Recall: 0.8696, Precision: 0.9115\n"
          ]
        },
        {
          "output_type": "stream",
          "name": "stderr",
          "text": [
            "100%|██████████| 114/114 [00:38<00:00,  2.96it/s]\n"
          ]
        },
        {
          "output_type": "stream",
          "name": "stdout",
          "text": [
            "Epoch 17/20, Average Loss: 0.1077561516216711\n",
            "F1 Score: 0.8876, Recall: 0.8435, Precision: 0.9366\n"
          ]
        },
        {
          "output_type": "stream",
          "name": "stderr",
          "text": [
            "100%|██████████| 114/114 [00:38<00:00,  2.99it/s]\n"
          ]
        },
        {
          "output_type": "stream",
          "name": "stdout",
          "text": [
            "Epoch 18/20, Average Loss: 0.1004256279322139\n",
            "F1 Score: 0.8969, Recall: 0.8807, Precision: 0.9137\n"
          ]
        },
        {
          "output_type": "stream",
          "name": "stderr",
          "text": [
            "100%|██████████| 114/114 [00:38<00:00,  2.99it/s]\n"
          ]
        },
        {
          "output_type": "stream",
          "name": "stdout",
          "text": [
            "Epoch 19/20, Average Loss: 0.10300835061883717\n",
            "F1 Score: 0.8900, Recall: 0.8646, Precision: 0.9170\n"
          ]
        },
        {
          "output_type": "stream",
          "name": "stderr",
          "text": [
            "100%|██████████| 114/114 [00:37<00:00,  3.03it/s]\n"
          ]
        },
        {
          "output_type": "stream",
          "name": "stdout",
          "text": [
            "Epoch 20/20, Average Loss: 0.10693779159664062\n",
            "F1 Score: 0.8934, Recall: 0.8845, Precision: 0.9024\n"
          ]
        },
        {
          "output_type": "display_data",
          "data": {
            "text/plain": [
              "<Figure size 640x480 with 1 Axes>"
            ],
            "image/png": "[encoded data removed]"
          },
          "metadata": {}
        }
      ]
    },
    {
      "cell_type": "code",
      "source": [
        "from tqdm import tqdm\n",
        "num_classes = 2\n",
        "two_layer_classifier = TwoLayerLSTM(embedding_matrix, num_classes=num_classes)\n",
        "\n",
        "criterion = nn.CrossEntropyLoss()\n",
        "optimizer = optim.Adam(two_layer_classifier.parameters(), lr=0.001)\n",
        "\n",
        "num_epochs = 10\n",
        "\n",
        "f1_scores = []\n",
        "recall_scores = []\n",
        "precision_scores = []\n",
        "all_losses = []\n",
        "\n",
        "\n",
        "for epoch in range(num_epochs):\n",
        "    total_loss = 0\n",
        "    for batch_X, batch_y in tqdm(train_dataloader):\n",
        "\n",
        "        outputs = two_layer_classifier(batch_X)\n",
        "        loss = criterion(outputs, batch_y)\n",
        "\n",
        "        optimizer.zero_grad()\n",
        "        loss.backward()\n",
        "        optimizer.step()\n",
        "\n",
        "        total_loss += loss.item()\n",
        "\n",
        "    with torch.no_grad():\n",
        "        test_outputs = two_layer_classifier(X_test_tensor)\n",
        "        test_loss = criterion(test_outputs, y_test_tensor)\n",
        "        predicted_labels = torch.argmax(test_outputs, dim=1)\n",
        "\n",
        "        f1 = f1_score(y_test_tensor.cpu(), predicted_labels.cpu())\n",
        "        recall = recall_score(y_test_tensor.cpu(), predicted_labels.cpu())\n",
        "        precision = precision_score(y_test_tensor.cpu(), predicted_labels.cpu())\n",
        "\n",
        "        f1_scores.append(f1)\n",
        "        recall_scores.append(recall)\n",
        "        precision_scores.append(precision)\n",
        "        all_losses.append(total_loss / len(train_dataloader))\n",
        "\n",
        "    print(f'Epoch {epoch + 1}/{num_epochs}, Average Loss: {total_loss / len(train_dataloader)}')\n",
        "    print(f'F1 Score: {f1:.4f}, Recall: {recall:.4f}, Precision: {precision:.4f}')\n",
        "\n",
        "    print(f'Epoch {epoch + 1}/{num_epochs}, Average Loss: {total_loss / len(train_dataloader)}')\n",
        "\n",
        "\n",
        "plt.plot(all_losses)\n",
        "plt.xlabel('Epochs')\n",
        "plt.ylabel('Loss')\n",
        "plt.title('Training Loss Curve')\n",
        "plt.show()\n"
      ],
      "metadata": {
        "colab": {
          "base_uri": "https://localhost:8080/",
          "height": 1000
        },
        "id": "LPMDE5UcBe1k",
        "outputId": "245a2b4f-e297-4df0-8124-47f2991159e8"
      },
      "execution_count": 13,
      "outputs": [
        {
          "output_type": "stream",
          "name": "stderr",
          "text": [
            "100%|██████████| 114/114 [00:33<00:00,  3.37it/s]\n"
          ]
        },
        {
          "output_type": "stream",
          "name": "stdout",
          "text": [
            "Epoch 1/10, Average Loss: 0.3578581236172141\n",
            "F1 Score: 0.8794, Recall: 0.8472, Precision: 0.9142\n",
            "Epoch 1/10, Average Loss: 0.3578581236172141\n"
          ]
        },
        {
          "output_type": "stream",
          "name": "stderr",
          "text": [
            "100%|██████████| 114/114 [00:38<00:00,  2.99it/s]\n"
          ]
        },
        {
          "output_type": "stream",
          "name": "stdout",
          "text": [
            "Epoch 2/10, Average Loss: 0.23684975537553168\n",
            "F1 Score: 0.8842, Recall: 0.8248, Precision: 0.9527\n",
            "Epoch 2/10, Average Loss: 0.23684975537553168\n"
          ]
        },
        {
          "output_type": "stream",
          "name": "stderr",
          "text": [
            "100%|██████████| 114/114 [00:36<00:00,  3.12it/s]\n"
          ]
        },
        {
          "output_type": "stream",
          "name": "stdout",
          "text": [
            "Epoch 3/10, Average Loss: 0.20529897151547566\n",
            "F1 Score: 0.8851, Recall: 0.8994, Precision: 0.8712\n",
            "Epoch 3/10, Average Loss: 0.20529897151547566\n"
          ]
        },
        {
          "output_type": "stream",
          "name": "stderr",
          "text": [
            "100%|██████████| 114/114 [00:37<00:00,  3.07it/s]\n"
          ]
        },
        {
          "output_type": "stream",
          "name": "stdout",
          "text": [
            "Epoch 4/10, Average Loss: 0.18274263344835817\n",
            "F1 Score: 0.8933, Recall: 0.8894, Precision: 0.8972\n",
            "Epoch 4/10, Average Loss: 0.18274263344835817\n"
          ]
        },
        {
          "output_type": "stream",
          "name": "stderr",
          "text": [
            "100%|██████████| 114/114 [00:38<00:00,  2.96it/s]\n"
          ]
        },
        {
          "output_type": "stream",
          "name": "stdout",
          "text": [
            "Epoch 5/10, Average Loss: 0.16069366011703223\n",
            "F1 Score: 0.8949, Recall: 0.9255, Precision: 0.8663\n",
            "Epoch 5/10, Average Loss: 0.16069366011703223\n"
          ]
        },
        {
          "output_type": "stream",
          "name": "stderr",
          "text": [
            "100%|██████████| 114/114 [00:36<00:00,  3.12it/s]\n"
          ]
        },
        {
          "output_type": "stream",
          "name": "stdout",
          "text": [
            "Epoch 6/10, Average Loss: 0.13885342663055972\n",
            "F1 Score: 0.8970, Recall: 0.9143, Precision: 0.8804\n",
            "Epoch 6/10, Average Loss: 0.13885342663055972\n"
          ]
        },
        {
          "output_type": "stream",
          "name": "stderr",
          "text": [
            "100%|██████████| 114/114 [00:36<00:00,  3.16it/s]\n"
          ]
        },
        {
          "output_type": "stream",
          "name": "stdout",
          "text": [
            "Epoch 7/10, Average Loss: 0.11677005589661892\n",
            "F1 Score: 0.8975, Recall: 0.8807, Precision: 0.9148\n",
            "Epoch 7/10, Average Loss: 0.11677005589661892\n"
          ]
        },
        {
          "output_type": "stream",
          "name": "stderr",
          "text": [
            "100%|██████████| 114/114 [00:35<00:00,  3.17it/s]\n"
          ]
        },
        {
          "output_type": "stream",
          "name": "stdout",
          "text": [
            "Epoch 8/10, Average Loss: 0.09396526661064279\n",
            "F1 Score: 0.9109, Recall: 0.8957, Precision: 0.9267\n",
            "Epoch 8/10, Average Loss: 0.09396526661064279\n"
          ]
        },
        {
          "output_type": "stream",
          "name": "stderr",
          "text": [
            "100%|██████████| 114/114 [00:35<00:00,  3.20it/s]\n"
          ]
        },
        {
          "output_type": "stream",
          "name": "stdout",
          "text": [
            "Epoch 9/10, Average Loss: 0.08802675200920355\n",
            "F1 Score: 0.9101, Recall: 0.9118, Precision: 0.9084\n",
            "Epoch 9/10, Average Loss: 0.08802675200920355\n"
          ]
        },
        {
          "output_type": "stream",
          "name": "stderr",
          "text": [
            "100%|██████████| 114/114 [00:36<00:00,  3.12it/s]\n"
          ]
        },
        {
          "output_type": "stream",
          "name": "stdout",
          "text": [
            "Epoch 10/10, Average Loss: 0.06319698989554717\n",
            "F1 Score: 0.9123, Recall: 0.9106, Precision: 0.9140\n",
            "Epoch 10/10, Average Loss: 0.06319698989554717\n"
          ]
        },
        {
          "output_type": "display_data",
          "data": {
            "text/plain": [
              "<Figure size 640x480 with 1 Axes>"
            ],
            "image/png": "[encoded data removed]"
          },
          "metadata": {}
        }
      ]
    },
    {
      "cell_type": "code",
      "source": [
        "from tqdm import tqdm\n",
        "num_classes = 2\n",
        "one_layer_classifier = OneLayerLSTM(embedding_matrix, num_classes=num_classes)\n",
        "\n",
        "criterion = nn.CrossEntropyLoss()\n",
        "optimizer = optim.Adam(one_layer_classifier.parameters(), lr=0.001)\n",
        "\n",
        "num_epochs = 10\n",
        "\n",
        "f1_scores = []\n",
        "recall_scores = []\n",
        "precision_scores = []\n",
        "all_losses = []\n",
        "\n",
        "for epoch in range(num_epochs):\n",
        "    total_loss = 0\n",
        "    for batch_X, batch_y in tqdm(train_dataloader):\n",
        "\n",
        "        outputs = one_layer_classifier(batch_X)\n",
        "        loss = criterion(outputs, batch_y)\n",
        "\n",
        "        optimizer.zero_grad()\n",
        "        loss.backward()\n",
        "        optimizer.step()\n",
        "\n",
        "        total_loss += loss.item()\n",
        "\n",
        "    with torch.no_grad():\n",
        "        test_outputs = one_layer_classifier(X_test_tensor)\n",
        "        test_loss = criterion(test_outputs, y_test_tensor)\n",
        "        predicted_labels = torch.argmax(test_outputs, dim=1)\n",
        "\n",
        "        f1 = f1_score(y_test_tensor.cpu(), predicted_labels.cpu())\n",
        "        recall = recall_score(y_test_tensor.cpu(), predicted_labels.cpu())\n",
        "        precision = precision_score(y_test_tensor.cpu(), predicted_labels.cpu())\n",
        "\n",
        "        f1_scores.append(f1)\n",
        "        recall_scores.append(recall)\n",
        "        precision_scores.append(precision)\n",
        "        all_losses.append(total_loss / len(train_dataloader))\n",
        "\n",
        "    print(f'Epoch {epoch + 1}/{num_epochs}, Average Loss: {total_loss / len(train_dataloader)}')\n",
        "    print(f'F1 Score: {f1:.4f}, Recall: {recall:.4f}, Precision: {precision:.4f}')\n",
        "\n",
        "    print(f'Epoch {epoch + 1}/{num_epochs}, Average Loss: {total_loss / len(train_dataloader)}')\n",
        "\n",
        "\n",
        "plt.plot(all_losses)\n",
        "plt.xlabel('Epochs')\n",
        "plt.ylabel('Loss')\n",
        "plt.title('Training Loss Curve')\n",
        "plt.show()\n"
      ],
      "metadata": {
        "colab": {
          "base_uri": "https://localhost:8080/",
          "height": 1000
        },
        "id": "2A8PfNjC1Hfa",
        "outputId": "a8623897-0bd9-4eed-e260-fa9fde85a386"
      },
      "execution_count": 14,
      "outputs": [
        {
          "output_type": "stream",
          "name": "stderr",
          "text": [
            "100%|██████████| 114/114 [00:19<00:00,  5.97it/s]\n"
          ]
        },
        {
          "output_type": "stream",
          "name": "stdout",
          "text": [
            "Epoch 1/10, Average Loss: 0.3371637308022432\n",
            "F1 Score: 0.8840, Recall: 0.8472, Precision: 0.9241\n",
            "Epoch 1/10, Average Loss: 0.3371637308022432\n"
          ]
        },
        {
          "output_type": "stream",
          "name": "stderr",
          "text": [
            "100%|██████████| 114/114 [00:20<00:00,  5.69it/s]\n"
          ]
        },
        {
          "output_type": "stream",
          "name": "stdout",
          "text": [
            "Epoch 2/10, Average Loss: 0.2318783562565059\n",
            "F1 Score: 0.8886, Recall: 0.8820, Precision: 0.8953\n",
            "Epoch 2/10, Average Loss: 0.2318783562565059\n"
          ]
        },
        {
          "output_type": "stream",
          "name": "stderr",
          "text": [
            "100%|██████████| 114/114 [00:18<00:00,  6.06it/s]\n"
          ]
        },
        {
          "output_type": "stream",
          "name": "stdout",
          "text": [
            "Epoch 3/10, Average Loss: 0.2037316710410411\n",
            "F1 Score: 0.8909, Recall: 0.8522, Precision: 0.9333\n",
            "Epoch 3/10, Average Loss: 0.2037316710410411\n"
          ]
        },
        {
          "output_type": "stream",
          "name": "stderr",
          "text": [
            "100%|██████████| 114/114 [00:20<00:00,  5.57it/s]\n"
          ]
        },
        {
          "output_type": "stream",
          "name": "stdout",
          "text": [
            "Epoch 4/10, Average Loss: 0.18180933686202033\n",
            "F1 Score: 0.9003, Recall: 0.8745, Precision: 0.9275\n",
            "Epoch 4/10, Average Loss: 0.18180933686202033\n"
          ]
        },
        {
          "output_type": "stream",
          "name": "stderr",
          "text": [
            "100%|██████████| 114/114 [00:28<00:00,  4.02it/s]\n"
          ]
        },
        {
          "output_type": "stream",
          "name": "stdout",
          "text": [
            "Epoch 5/10, Average Loss: 0.16273100187250397\n",
            "F1 Score: 0.9052, Recall: 0.8658, Precision: 0.9483\n",
            "Epoch 5/10, Average Loss: 0.16273100187250397\n"
          ]
        },
        {
          "output_type": "stream",
          "name": "stderr",
          "text": [
            "100%|██████████| 114/114 [00:24<00:00,  4.70it/s]\n"
          ]
        },
        {
          "output_type": "stream",
          "name": "stdout",
          "text": [
            "Epoch 6/10, Average Loss: 0.14588558232705845\n",
            "F1 Score: 0.9070, Recall: 0.8845, Precision: 0.9307\n",
            "Epoch 6/10, Average Loss: 0.14588558232705845\n"
          ]
        },
        {
          "output_type": "stream",
          "name": "stderr",
          "text": [
            "100%|██████████| 114/114 [00:22<00:00,  5.05it/s]\n"
          ]
        },
        {
          "output_type": "stream",
          "name": "stdout",
          "text": [
            "Epoch 7/10, Average Loss: 0.1297441798409349\n",
            "F1 Score: 0.8973, Recall: 0.8571, Precision: 0.9413\n",
            "Epoch 7/10, Average Loss: 0.1297441798409349\n"
          ]
        },
        {
          "output_type": "stream",
          "name": "stderr",
          "text": [
            "100%|██████████| 114/114 [00:23<00:00,  4.83it/s]\n"
          ]
        },
        {
          "output_type": "stream",
          "name": "stdout",
          "text": [
            "Epoch 8/10, Average Loss: 0.10744597878829952\n",
            "F1 Score: 0.9139, Recall: 0.8969, Precision: 0.9316\n",
            "Epoch 8/10, Average Loss: 0.10744597878829952\n"
          ]
        },
        {
          "output_type": "stream",
          "name": "stderr",
          "text": [
            "100%|██████████| 114/114 [00:19<00:00,  5.82it/s]\n"
          ]
        },
        {
          "output_type": "stream",
          "name": "stdout",
          "text": [
            "Epoch 9/10, Average Loss: 0.09642691942944862\n",
            "F1 Score: 0.9041, Recall: 0.8609, Precision: 0.9519\n",
            "Epoch 9/10, Average Loss: 0.09642691942944862\n"
          ]
        },
        {
          "output_type": "stream",
          "name": "stderr",
          "text": [
            "100%|██████████| 114/114 [00:19<00:00,  5.75it/s]\n"
          ]
        },
        {
          "output_type": "stream",
          "name": "stdout",
          "text": [
            "Epoch 10/10, Average Loss: 0.08644698346197083\n",
            "F1 Score: 0.9130, Recall: 0.8994, Precision: 0.9270\n",
            "Epoch 10/10, Average Loss: 0.08644698346197083\n"
          ]
        },
        {
          "output_type": "display_data",
          "data": {
            "text/plain": [
              "<Figure size 640x480 with 1 Axes>"
            ],
            "image/png": "[encoded data removed]"
          },
          "metadata": {}
        }
      ]
    },
    {
      "cell_type": "code",
      "source": [],
      "metadata": {
        "id": "A_eXTYxP4XTn"
      },
      "execution_count": null,
      "outputs": []
    }
  ]
}